{
  "cells": [
    {
      "cell_type": "markdown",
      "metadata": {
        "id": "s6gTlaTMGDAt"
      },
      "source": [
        "# **Data Collection and Package Importation**\n"
      ]
    },
    {
      "cell_type": "code",
      "execution_count": 1,
      "metadata": {
        "colab": {
          "base_uri": "https://localhost:8080/",
          "height": 678
        },
        "id": "qE75SQq5HEuj",
        "outputId": "3d1be93a-f8c4-4ec8-c003-9b632c1157cf"
      },
      "outputs": [
        {
          "data": {
            "text/html": [
              "<div>\n",
              "<style scoped>\n",
              "    .dataframe tbody tr th:only-of-type {\n",
              "        vertical-align: middle;\n",
              "    }\n",
              "\n",
              "    .dataframe tbody tr th {\n",
              "        vertical-align: top;\n",
              "    }\n",
              "\n",
              "    .dataframe thead th {\n",
              "        text-align: right;\n",
              "    }\n",
              "</style>\n",
              "<table border=\"1\" class=\"dataframe\">\n",
              "  <thead>\n",
              "    <tr style=\"text-align: right;\">\n",
              "      <th></th>\n",
              "      <th>age</th>\n",
              "      <th>workclass</th>\n",
              "      <th>fnlwgt</th>\n",
              "      <th>education</th>\n",
              "      <th>educational-num</th>\n",
              "      <th>marital-status</th>\n",
              "      <th>occupation</th>\n",
              "      <th>relationship</th>\n",
              "      <th>race</th>\n",
              "      <th>gender</th>\n",
              "      <th>capital-gain</th>\n",
              "      <th>capital-loss</th>\n",
              "      <th>hours-per-week</th>\n",
              "      <th>native-country</th>\n",
              "      <th>income</th>\n",
              "    </tr>\n",
              "  </thead>\n",
              "  <tbody>\n",
              "    <tr>\n",
              "      <th>0</th>\n",
              "      <td>25</td>\n",
              "      <td>Private</td>\n",
              "      <td>226802</td>\n",
              "      <td>11th</td>\n",
              "      <td>7</td>\n",
              "      <td>Never-married</td>\n",
              "      <td>Machine-op-inspct</td>\n",
              "      <td>Own-child</td>\n",
              "      <td>Black</td>\n",
              "      <td>Male</td>\n",
              "      <td>0</td>\n",
              "      <td>0</td>\n",
              "      <td>40</td>\n",
              "      <td>United-States</td>\n",
              "      <td>&lt;=50K</td>\n",
              "    </tr>\n",
              "    <tr>\n",
              "      <th>1</th>\n",
              "      <td>38</td>\n",
              "      <td>Private</td>\n",
              "      <td>89814</td>\n",
              "      <td>HS-grad</td>\n",
              "      <td>9</td>\n",
              "      <td>Married-civ-spouse</td>\n",
              "      <td>Farming-fishing</td>\n",
              "      <td>Husband</td>\n",
              "      <td>White</td>\n",
              "      <td>Male</td>\n",
              "      <td>0</td>\n",
              "      <td>0</td>\n",
              "      <td>50</td>\n",
              "      <td>United-States</td>\n",
              "      <td>&lt;=50K</td>\n",
              "    </tr>\n",
              "    <tr>\n",
              "      <th>2</th>\n",
              "      <td>28</td>\n",
              "      <td>Local-gov</td>\n",
              "      <td>336951</td>\n",
              "      <td>Assoc-acdm</td>\n",
              "      <td>12</td>\n",
              "      <td>Married-civ-spouse</td>\n",
              "      <td>Protective-serv</td>\n",
              "      <td>Husband</td>\n",
              "      <td>White</td>\n",
              "      <td>Male</td>\n",
              "      <td>0</td>\n",
              "      <td>0</td>\n",
              "      <td>40</td>\n",
              "      <td>United-States</td>\n",
              "      <td>&gt;50K</td>\n",
              "    </tr>\n",
              "    <tr>\n",
              "      <th>3</th>\n",
              "      <td>44</td>\n",
              "      <td>Private</td>\n",
              "      <td>160323</td>\n",
              "      <td>Some-college</td>\n",
              "      <td>10</td>\n",
              "      <td>Married-civ-spouse</td>\n",
              "      <td>Machine-op-inspct</td>\n",
              "      <td>Husband</td>\n",
              "      <td>Black</td>\n",
              "      <td>Male</td>\n",
              "      <td>7688</td>\n",
              "      <td>0</td>\n",
              "      <td>40</td>\n",
              "      <td>United-States</td>\n",
              "      <td>&gt;50K</td>\n",
              "    </tr>\n",
              "    <tr>\n",
              "      <th>4</th>\n",
              "      <td>18</td>\n",
              "      <td>?</td>\n",
              "      <td>103497</td>\n",
              "      <td>Some-college</td>\n",
              "      <td>10</td>\n",
              "      <td>Never-married</td>\n",
              "      <td>?</td>\n",
              "      <td>Own-child</td>\n",
              "      <td>White</td>\n",
              "      <td>Female</td>\n",
              "      <td>0</td>\n",
              "      <td>0</td>\n",
              "      <td>30</td>\n",
              "      <td>United-States</td>\n",
              "      <td>&lt;=50K</td>\n",
              "    </tr>\n",
              "    <tr>\n",
              "      <th>5</th>\n",
              "      <td>34</td>\n",
              "      <td>Private</td>\n",
              "      <td>198693</td>\n",
              "      <td>10th</td>\n",
              "      <td>6</td>\n",
              "      <td>Never-married</td>\n",
              "      <td>Other-service</td>\n",
              "      <td>Not-in-family</td>\n",
              "      <td>White</td>\n",
              "      <td>Male</td>\n",
              "      <td>0</td>\n",
              "      <td>0</td>\n",
              "      <td>30</td>\n",
              "      <td>United-States</td>\n",
              "      <td>&lt;=50K</td>\n",
              "    </tr>\n",
              "    <tr>\n",
              "      <th>6</th>\n",
              "      <td>29</td>\n",
              "      <td>?</td>\n",
              "      <td>227026</td>\n",
              "      <td>HS-grad</td>\n",
              "      <td>9</td>\n",
              "      <td>Never-married</td>\n",
              "      <td>?</td>\n",
              "      <td>Unmarried</td>\n",
              "      <td>Black</td>\n",
              "      <td>Male</td>\n",
              "      <td>0</td>\n",
              "      <td>0</td>\n",
              "      <td>40</td>\n",
              "      <td>United-States</td>\n",
              "      <td>&lt;=50K</td>\n",
              "    </tr>\n",
              "    <tr>\n",
              "      <th>7</th>\n",
              "      <td>63</td>\n",
              "      <td>Self-emp-not-inc</td>\n",
              "      <td>104626</td>\n",
              "      <td>Prof-school</td>\n",
              "      <td>15</td>\n",
              "      <td>Married-civ-spouse</td>\n",
              "      <td>Prof-specialty</td>\n",
              "      <td>Husband</td>\n",
              "      <td>White</td>\n",
              "      <td>Male</td>\n",
              "      <td>3103</td>\n",
              "      <td>0</td>\n",
              "      <td>32</td>\n",
              "      <td>United-States</td>\n",
              "      <td>&gt;50K</td>\n",
              "    </tr>\n",
              "    <tr>\n",
              "      <th>8</th>\n",
              "      <td>24</td>\n",
              "      <td>Private</td>\n",
              "      <td>369667</td>\n",
              "      <td>Some-college</td>\n",
              "      <td>10</td>\n",
              "      <td>Never-married</td>\n",
              "      <td>Other-service</td>\n",
              "      <td>Unmarried</td>\n",
              "      <td>White</td>\n",
              "      <td>Female</td>\n",
              "      <td>0</td>\n",
              "      <td>0</td>\n",
              "      <td>40</td>\n",
              "      <td>United-States</td>\n",
              "      <td>&lt;=50K</td>\n",
              "    </tr>\n",
              "    <tr>\n",
              "      <th>9</th>\n",
              "      <td>55</td>\n",
              "      <td>Private</td>\n",
              "      <td>104996</td>\n",
              "      <td>7th-8th</td>\n",
              "      <td>4</td>\n",
              "      <td>Married-civ-spouse</td>\n",
              "      <td>Craft-repair</td>\n",
              "      <td>Husband</td>\n",
              "      <td>White</td>\n",
              "      <td>Male</td>\n",
              "      <td>0</td>\n",
              "      <td>0</td>\n",
              "      <td>10</td>\n",
              "      <td>United-States</td>\n",
              "      <td>&lt;=50K</td>\n",
              "    </tr>\n",
              "  </tbody>\n",
              "</table>\n",
              "</div>"
            ],
            "text/plain": [
              "   age         workclass  fnlwgt     education  educational-num   \n",
              "0   25           Private  226802          11th                7  \\\n",
              "1   38           Private   89814       HS-grad                9   \n",
              "2   28         Local-gov  336951    Assoc-acdm               12   \n",
              "3   44           Private  160323  Some-college               10   \n",
              "4   18                 ?  103497  Some-college               10   \n",
              "5   34           Private  198693          10th                6   \n",
              "6   29                 ?  227026       HS-grad                9   \n",
              "7   63  Self-emp-not-inc  104626   Prof-school               15   \n",
              "8   24           Private  369667  Some-college               10   \n",
              "9   55           Private  104996       7th-8th                4   \n",
              "\n",
              "       marital-status         occupation   relationship   race  gender   \n",
              "0       Never-married  Machine-op-inspct      Own-child  Black    Male  \\\n",
              "1  Married-civ-spouse    Farming-fishing        Husband  White    Male   \n",
              "2  Married-civ-spouse    Protective-serv        Husband  White    Male   \n",
              "3  Married-civ-spouse  Machine-op-inspct        Husband  Black    Male   \n",
              "4       Never-married                  ?      Own-child  White  Female   \n",
              "5       Never-married      Other-service  Not-in-family  White    Male   \n",
              "6       Never-married                  ?      Unmarried  Black    Male   \n",
              "7  Married-civ-spouse     Prof-specialty        Husband  White    Male   \n",
              "8       Never-married      Other-service      Unmarried  White  Female   \n",
              "9  Married-civ-spouse       Craft-repair        Husband  White    Male   \n",
              "\n",
              "   capital-gain  capital-loss  hours-per-week native-country income  \n",
              "0             0             0              40  United-States  <=50K  \n",
              "1             0             0              50  United-States  <=50K  \n",
              "2             0             0              40  United-States   >50K  \n",
              "3          7688             0              40  United-States   >50K  \n",
              "4             0             0              30  United-States  <=50K  \n",
              "5             0             0              30  United-States  <=50K  \n",
              "6             0             0              40  United-States  <=50K  \n",
              "7          3103             0              32  United-States   >50K  \n",
              "8             0             0              40  United-States  <=50K  \n",
              "9             0             0              10  United-States  <=50K  "
            ]
          },
          "execution_count": 1,
          "metadata": {},
          "output_type": "execute_result"
        }
      ],
      "source": [
        "import numpy as np\n",
        "import pandas as pd\n",
        "import seaborn as sns\n",
        "import matplotlib.pyplot as plt\n",
        "%matplotlib inline\n",
        "import warnings\n",
        "warnings.filterwarnings(\"ignore\")\n",
        "from scipy.stats import ttest_ind, ttest_rel\n",
        "from scipy import stats\n",
        "\n",
        "data = pd.read_csv(\"https://gitlab.com/andreass.bayu/file-directory/-/raw/main/adult.csv\")\n",
        "data.head(10)"
      ]
    },
    {
      "cell_type": "markdown",
      "metadata": {
        "id": "1wJi7VSZHQmO"
      },
      "source": [
        "# **1. Create and explain univariate analysis for the categories of hours-per-week and income**\n"
      ]
    },
    {
      "cell_type": "code",
      "execution_count": 2,
      "metadata": {
        "colab": {
          "base_uri": "https://localhost:8080/",
          "height": 619
        },
        "id": "Ros_-UtXHc0N",
        "outputId": "7526d164-8774-4c1e-d3f1-2369f94f9c1f"
      },
      "outputs": [
        {
          "data": {
            "image/png": "[encoded data removed]",
            "text/plain": [
              "<Figure size 700x700 with 1 Axes>"
            ]
          },
          "metadata": {},
          "output_type": "display_data"
        }
      ],
      "source": [
        "plt.figure(figsize=(7,7))\n",
        "total = float(len(data) )\n",
        "\n",
        "ax = sns.countplot(x=\"income\", data=data)\n",
        "for p in ax.patches:\n",
        "    height = p.get_height()\n",
        "    ax.text(p.get_x()+p.get_width()/2.,\n",
        "            height + 3,\n",
        "            '{:1.2f}'.format((height/total)*100),\n",
        "            ha=\"center\")\n",
        "plt.show()"
      ]
    },
    {
      "cell_type": "markdown",
      "metadata": {
        "id": "YkwaG_FkHiab"
      },
      "source": [
        "# **#Calculate the hours-per-week chart**\n"
      ]
    },
    {
      "cell_type": "code",
      "execution_count": 3,
      "metadata": {
        "colab": {
          "base_uri": "https://localhost:8080/",
          "height": 693
        },
        "id": "--ITfOfwHq6I",
        "outputId": "f5607f13-00aa-474d-fe26-ed88be3dff96"
      },
      "outputs": [
        {
          "data": {
            "text/plain": [
              "<function matplotlib.pyplot.show(close=None, block=None)>"
            ]
          },
          "execution_count": 3,
          "metadata": {},
          "output_type": "execute_result"
        },
        {
          "data": {
            "image/png": "[encoded data removed]",
            "text/plain": [
              "<Figure size 800x800 with 1 Axes>"
            ]
          },
          "metadata": {},
          "output_type": "display_data"
        }
      ],
      "source": [
        "data['hours-per-week'].hist(figsize=(8,8))\n",
        "plt.show"
      ]
    },
    {
      "cell_type": "markdown",
      "metadata": {
        "id": "8aVv7oY3H0Ne"
      },
      "source": [
        "The histogram above indicates that the \"hours per week\" attribute has a stable and symmetrical distribution. In this distribution, the most common working hours are around 40 hours, and the range of working hours spans from 1 to 99 hours.\n"
      ]
    },
    {
      "cell_type": "markdown",
      "metadata": {
        "id": "GdUKOFtJH4rr"
      },
      "source": [
        "# **#Create an income chart**\n"
      ]
    },
    {
      "cell_type": "code",
      "execution_count": 4,
      "metadata": {
        "colab": {
          "base_uri": "https://localhost:8080/",
          "height": 676
        },
        "id": "eH4alR_cH_xL",
        "outputId": "108cd862-d724-4edf-d167-a7b432519829"
      },
      "outputs": [
        {
          "data": {
            "image/png": "[encoded data removed]",
            "text/plain": [
              "<Figure size 800x800 with 1 Axes>"
            ]
          },
          "metadata": {},
          "output_type": "display_data"
        }
      ],
      "source": [
        "data['income'].hist(figsize=(8,8))\n",
        "plt.show()"
      ]
    },
    {
      "cell_type": "markdown",
      "metadata": {
        "id": "khIkRw8SIEgC"
      },
      "source": [
        "The histogram above indicates that the \"income\" attribute has an unstable and asymmetric distribution. In this distribution, most of the income received is below 50 thousand, and there is a significant difference between the minimum income (less than or equal to 50 thousand) and the maximum income (greater than 50 thousand).\n"
      ]
    },
    {
      "cell_type": "markdown",
      "metadata": {
        "id": "ODWwS_qoIHJ2"
      },
      "source": [
        "# **2. Create and explain bivariate analysis for the relationship between hours-per-week and income**\n"
      ]
    },
    {
      "cell_type": "code",
      "execution_count": 5,
      "metadata": {
        "colab": {
          "base_uri": "https://localhost:8080/",
          "height": 850
        },
        "id": "_8Tkk-ILIPP9",
        "outputId": "879f4441-45d2-4899-fc87-9be397e409d7"
      },
      "outputs": [
        {
          "data": {
            "image/png": "[encoded data removed]",
            "text/plain": [
              "<Figure size 1000x1000 with 1 Axes>"
            ]
          },
          "metadata": {},
          "output_type": "display_data"
        }
      ],
      "source": [
        "fig = plt.figure(figsize=(10,10))\n",
        "sns.boxplot(x=\"hours-per-week\", y=\"income\", data=data)\n",
        "plt.show()"
      ]
    },
    {
      "cell_type": "code",
      "execution_count": 6,
      "metadata": {
        "colab": {
          "base_uri": "https://localhost:8080/",
          "height": 112
        },
        "id": "-1ajtNCxIbRJ",
        "outputId": "6154e256-437b-4cc1-f09f-dce7f1df30dc"
      },
      "outputs": [
        {
          "data": {
            "text/html": [
              "<div>\n",
              "<style scoped>\n",
              "    .dataframe tbody tr th:only-of-type {\n",
              "        vertical-align: middle;\n",
              "    }\n",
              "\n",
              "    .dataframe tbody tr th {\n",
              "        vertical-align: top;\n",
              "    }\n",
              "\n",
              "    .dataframe thead th {\n",
              "        text-align: right;\n",
              "    }\n",
              "</style>\n",
              "<table border=\"1\" class=\"dataframe\">\n",
              "  <thead>\n",
              "    <tr style=\"text-align: right;\">\n",
              "      <th></th>\n",
              "      <th>income</th>\n",
              "      <th>hours-per-week</th>\n",
              "    </tr>\n",
              "  </thead>\n",
              "  <tbody>\n",
              "    <tr>\n",
              "      <th>0</th>\n",
              "      <td>&lt;=50K</td>\n",
              "      <td>38.840048</td>\n",
              "    </tr>\n",
              "    <tr>\n",
              "      <th>1</th>\n",
              "      <td>&gt;50K</td>\n",
              "      <td>45.452896</td>\n",
              "    </tr>\n",
              "  </tbody>\n",
              "</table>\n",
              "</div>"
            ],
            "text/plain": [
              "  income  hours-per-week\n",
              "0  <=50K       38.840048\n",
              "1   >50K       45.452896"
            ]
          },
          "execution_count": 6,
          "metadata": {},
          "output_type": "execute_result"
        }
      ],
      "source": [
        "data[['hours-per-week', 'income']].groupby(['income'], as_index=False).mean().sort_values(by='hours-per-week')"
      ]
    },
    {
      "cell_type": "markdown",
      "metadata": {
        "id": "JTeEhrQjIuSW"
      },
      "source": [
        "The histogram above illustrates that the \"hours per week - income\" attribute has a symmetrical distribution. In this distribution, the minimum income occurs when working hours are less than or equal to 38 hours per week, and the maximum income occurs when working hours exceed 44 hours per week.\n"
      ]
    },
    {
      "cell_type": "markdown",
      "metadata": {
        "id": "u2ncgjXJI2ze"
      },
      "source": [
        "# **Conclusion**\n",
        "\n",
        "The data shows that the majority of individuals earn less than USD50.000 per year, and most of them work around 40 hours per week. There is a significant positive correlation between the number of hours worked per week and income level, where individuals who work longer hours tend to have higher incomes. On average, individuals with incomes above USD50.000 per year work around 45.35 hours per week, while those with incomes below USD50.000 per year work about 38.94 hours per week. This indicates the importance of additional commitment in working hours as a contributing factor to higher income levels.\n"
      ]
    }
  ],
  "metadata": {
    "colab": {
      "provenance": []
    },
    "kernelspec": {
      "display_name": "Python 3",
      "name": "python3"
    },
    "language_info": {
      "codemirror_mode": {
        "name": "ipython",
        "version": 3
      },
      "file_extension": ".py",
      "mimetype": "text/x-python",
      "name": "python",
      "nbconvert_exporter": "python",
      "pygments_lexer": "ipython3",
      "version": "3.11.5"
    }
  },
  "nbformat": 4,
  "nbformat_minor": 0
}
